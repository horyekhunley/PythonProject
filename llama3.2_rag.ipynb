{
 "cells": [
  {
   "cell_type": "code",
   "execution_count": 2,
   "id": "7c3f7079836e1a82",
   "metadata": {
    "ExecuteTime": {
     "end_time": "2024-12-15T03:20:00.967630Z",
     "start_time": "2024-12-15T03:12:37.763623Z"
    }
   },
   "outputs": [],
   "source": [
    "!pip install -qU llama-index llama-index-llms-ollama llama-index-embeddings-huggingface qdrant-client llama-index-vector-stores-qdrant"
   ]
  },
  {
   "cell_type": "code",
   "execution_count": 4,
   "id": "initial_id",
   "metadata": {
    "ExecuteTime": {
     "end_time": "2024-12-15T03:20:05.467593Z",
     "start_time": "2024-12-15T03:20:00.984367Z"
    },
    "collapsed": true
   },
   "outputs": [
    {
     "name": "stderr",
     "output_type": "stream",
     "text": [
      "/home/mb/anaconda3/envs/py_env/lib/python3.12/site-packages/tqdm/auto.py:21: TqdmWarning: IProgress not found. Please update jupyter and ipywidgets. See https://ipywidgets.readthedocs.io/en/stable/user_install.html\n",
      "  from .autonotebook import tqdm as notebook_tqdm\n",
      "2024-12-15 06:48:09.446538: E external/local_xla/xla/stream_executor/cuda/cuda_fft.cc:477] Unable to register cuFFT factory: Attempting to register factory for plugin cuFFT when one has already been registered\n",
      "WARNING: All log messages before absl::InitializeLog() is called are written to STDERR\n",
      "E0000 00:00:1734245289.508590    6557 cuda_dnn.cc:8310] Unable to register cuDNN factory: Attempting to register factory for plugin cuDNN when one has already been registered\n",
      "E0000 00:00:1734245289.520799    6557 cuda_blas.cc:1418] Unable to register cuBLAS factory: Attempting to register factory for plugin cuBLAS when one has already been registered\n",
      "2024-12-15 06:48:09.624225: I tensorflow/core/platform/cpu_feature_guard.cc:210] This TensorFlow binary is optimized to use available CPU instructions in performance-critical operations.\n",
      "To enable the following instructions: AVX2 FMA, in other operations, rebuild TensorFlow with the appropriate compiler flags.\n"
     ]
    }
   ],
   "source": [
    "import nest_asyncio\n",
    "from IPython.display import Markdown, display\n",
    "\n",
    "from llama_index.core import Settings\n",
    "from llama_index.llms.ollama import Ollama\n",
    "from llama_index.core import PromptTemplate\n",
    "from llama_index.embeddings.huggingface import HuggingFaceEmbedding\n",
    "from llama_index.core import VectorStoreIndex, ServiceContext, SimpleDirectoryReader, StorageContext\n",
    "from llama_index.core.postprocessor import SentenceTransformerRerank\n",
    "from llama_index.vector_stores.qdrant import QdrantVectorStore\n",
    "from llama_index.core import Settings\n",
    "import qdrant_client"
   ]
  },
  {
   "cell_type": "code",
   "execution_count": 5,
   "id": "5c23bf9b0a2ba111",
   "metadata": {
    "ExecuteTime": {
     "end_time": "2024-12-15T03:20:28.276408Z",
     "start_time": "2024-12-15T03:20:28.274174Z"
    }
   },
   "outputs": [],
   "source": [
    "# allows nested access to the event loop\n",
    "nest_asyncio.apply()"
   ]
  },
  {
   "cell_type": "code",
   "execution_count": 6,
   "id": "166540f833d8b6b1",
   "metadata": {
    "ExecuteTime": {
     "end_time": "2024-12-15T03:20:37.187451Z",
     "start_time": "2024-12-15T03:20:37.183021Z"
    }
   },
   "outputs": [],
   "source": [
    "# add your documents in this directory, you can drag & drop\n",
    "input_dir_path = './docs'"
   ]
  },
  {
   "cell_type": "code",
   "execution_count": 7,
   "id": "cfaf6a7041fb8a6e",
   "metadata": {
    "ExecuteTime": {
     "end_time": "2024-12-15T03:20:57.831138Z",
     "start_time": "2024-12-15T03:20:57.808360Z"
    }
   },
   "outputs": [],
   "source": [
    "collection_name=\"chat_with_docs\"\n",
    "\n",
    "client = qdrant_client.QdrantClient(\n",
    "    host=\"localhost\",\n",
    "    port=6333\n",
    ")\n",
    "\n",
    "def create_index(documents):\n",
    "    vector_store = QdrantVectorStore(client=client, collection_name=collection_name)\n",
    "    storage_context = StorageContext.from_defaults(vector_store=vector_store)\n",
    "    index = VectorStoreIndex.from_documents(\n",
    "        documents,\n",
    "        storage_context=storage_context,\n",
    "    )\n",
    "    return index"
   ]
  },
  {
   "cell_type": "code",
   "execution_count": 8,
   "id": "3061195585bbed9d",
   "metadata": {
    "ExecuteTime": {
     "end_time": "2024-12-15T03:28:06.193466Z",
     "start_time": "2024-12-15T03:28:03.875103Z"
    }
   },
   "outputs": [
    {
     "name": "stderr",
     "output_type": "stream",
     "text": [
      "/home/mb/anaconda3/envs/py_env/lib/python3.12/site-packages/torch/cuda/__init__.py:129: UserWarning: CUDA initialization: CUDA unknown error - this may be due to an incorrectly set up environment, e.g. changing env variable CUDA_VISIBLE_DEVICES after program start. Setting the available devices to be zero. (Triggered internally at ../c10/cuda/CUDAFunctions.cpp:108.)\n",
      "  return torch._C._cuda_getDeviceCount() > 0\n"
     ]
    }
   ],
   "source": [
    "# setup llm & embedding model and reranker\n",
    "llm=Ollama(model=\"llama3.2\", request_timeout=120.0)\n",
    "embed_model = HuggingFaceEmbedding( model_name=\"BAAI/bge-large-en-v1.5\", trust_remote_code=True)\n",
    "rerank = SentenceTransformerRerank(\n",
    "    model=\"cross-encoder/ms-marco-MiniLM-L-2-v2\", top_n=3\n",
    ")"
   ]
  },
  {
   "cell_type": "code",
   "execution_count": 9,
   "id": "751952175a3ef604",
   "metadata": {
    "ExecuteTime": {
     "end_time": "2024-12-15T03:31:38.511271Z",
     "start_time": "2024-12-15T03:28:06.199037Z"
    }
   },
   "outputs": [
    {
     "name": "stdout",
     "output_type": "stream",
     "text": [
      "Using Qdrant collection\n"
     ]
    }
   ],
   "source": [
    "# load data\n",
    "loader = SimpleDirectoryReader(\n",
    "            input_dir = input_dir_path,\n",
    "            required_exts=[\".pdf\"],\n",
    "            recursive=True\n",
    "        )\n",
    "docs = loader.load_data()\n",
    "\n",
    "# Creating an index over loaded data\n",
    "Settings.embed_model = embed_model\n",
    "try:\n",
    "    index = create_index(docs)\n",
    "    print('Using Qdrant collection')\n",
    "except:\n",
    "    index = VectorStoreIndex.from_documents(docs, show_progress=True)\n",
    "\n",
    "# Create the query engine, where we use a cohere reranker on the fetched nodes\n",
    "Settings.llm = llm\n",
    "query_engine = index.as_query_engine(\n",
    "    similarity_top_k=10, node_postprocessors=[rerank]\n",
    ")\n",
    "\n",
    "# ====== Customise prompt template ======\n",
    "qa_prompt_tmpl_str = (\n",
    "\"Context information is below.\\n\"\n",
    "\"---------------------\\n\"\n",
    "\"{context_str}\\n\"\n",
    "\"---------------------\\n\"\n",
    "\"Given the context information above I want you to think step by step to answer the query in a crisp manner, incase case you don't know the answer say 'I don't know!'.\\n\"\n",
    "\"Query: {query_str}\\n\"\n",
    "\"Answer: \"\n",
    ")\n",
    "qa_prompt_tmpl = PromptTemplate(qa_prompt_tmpl_str)\n",
    "\n",
    "query_engine.update_prompts(\n",
    "    {\"response_synthesizer:text_qa_template\": qa_prompt_tmpl}\n",
    ")\n",
    "\n",
    "# Generate the response\n",
    "response = query_engine.query(\"What is the difference between Artificial intelligence, machine learning and deep learning?\",)"
   ]
  },
  {
   "cell_type": "code",
   "execution_count": 10,
   "id": "98836510c68331b5",
   "metadata": {
    "ExecuteTime": {
     "end_time": "2024-12-15T03:31:38.528622Z",
     "start_time": "2024-12-15T03:31:38.524549Z"
    }
   },
   "outputs": [
    {
     "data": {
      "text/markdown": [
       "To answer your question, I'll break it down step by step:\n",
       "\n",
       "1. **Artificial Intelligence (AI)**: AI refers to the broader field of research and development aimed at creating machines that can perform tasks typically required of humans. It encompasses various techniques, including machine learning, rule-based systems, expert systems, and more.\n",
       "\n",
       "2. **Machine Learning (ML)**: Machine learning is a subset of artificial intelligence that focuses on developing algorithms and statistical models that enable machines to learn from data, without being explicitly programmed.\n",
       "\n",
       "3. **Deep Learning (DL)**: Deep learning is a subfield of machine learning that involves the use of neural networks with multiple layers to analyze and interpret data. These networks are inspired by the structure and function of the human brain.\n",
       "\n",
       "Now, summarizing the differences:\n",
       "\n",
       "- **Artificial Intelligence** encompasses all AI-related techniques and domains.\n",
       "- **Machine Learning** is a subset of AI focused on enabling machines to learn from data without being explicitly programmed.\n",
       "- **Deep Learning** is a subfield of machine learning that uses neural networks with multiple layers to analyze complex data.\n",
       "\n",
       "So, in summary: AI includes ML and DL as subsets, while ML is a broader field than DL."
      ],
      "text/plain": [
       "<IPython.core.display.Markdown object>"
      ]
     },
     "metadata": {},
     "output_type": "display_data"
    }
   ],
   "source": [
    "display(Markdown(str(response)))"
   ]
  },
  {
   "cell_type": "code",
   "execution_count": null,
   "id": "3b5264e1f5cc19ed",
   "metadata": {},
   "outputs": [],
   "source": []
  }
 ],
 "metadata": {
  "kernelspec": {
   "display_name": "Python 3",
   "language": "python",
   "name": "python3"
  },
  "language_info": {
   "codemirror_mode": {
    "name": "ipython",
    "version": 3
   },
   "file_extension": ".py",
   "mimetype": "text/x-python",
   "name": "python",
   "nbconvert_exporter": "python",
   "pygments_lexer": "ipython3",
   "version": "3.12.8"
  }
 },
 "nbformat": 4,
 "nbformat_minor": 5
}
